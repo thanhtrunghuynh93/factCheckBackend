{
 "cells": [
  {
   "cell_type": "markdown",
   "metadata": {},
   "source": [
    "# Setup"
   ]
  },
  {
   "cell_type": "code",
   "execution_count": 1,
   "metadata": {},
   "outputs": [],
   "source": [
    "import os\n",
    "import openai\n",
    "import yaml\n",
    "\n",
    "os.chdir(\"../../../../\")\n",
    " \n",
    "# openai.api_key = os.environ[\"OPENAI_API_KEY\"]\n",
    "if os.path.isfile('config.yaml'):\n",
    "    with open('config.yaml', 'r') as file:\n",
    "        cfg = yaml.safe_load(file)\n",
    "        openai.api_key = cfg[\"openapi_key\"]\n",
    "\n",
    "def llm_gpt4(prompt, model=\"gpt-4\", stop=[\"\\n\"]):\n",
    "    messages = [{\"role\": \"user\", \"content\": prompt}]\n",
    "    response = openai.ChatCompletion.create(\n",
    "        model=model,\n",
    "        messages=messages,\n",
    "        temperature=0, # this is the degree of randomness of the model's output\n",
    "    )\n",
    "    return response.choices[0].message[\"content\"]\n",
    "\n",
    "def llm_gpt3(prompt, model=\"gpt-3.5-turbo\", stop=[\"\\n\"]):\n",
    "    messages = [{\"role\": \"user\", \"content\": prompt}]\n",
    "    response = openai.ChatCompletion.create(\n",
    "        model=model,\n",
    "        messages=messages,\n",
    "        temperature=0, # this is the degree of randomness of the model's output\n",
    "    )\n",
    "    return response.choices[0].message[\"content\"]\n",
    "\n",
    "def llm(prompt, stop=[\"\\n\"]):\n",
    "    response = openai.Completion.create(\n",
    "      model=\"text-davinci-003\",\n",
    "      prompt=prompt,\n",
    "      temperature=0,\n",
    "      max_tokens=1000,\n",
    "      top_p=1,\n",
    "      frequency_penalty=0.0,\n",
    "      presence_penalty=0.0,\n",
    "      stop=stop\n",
    "    )\n",
    "    return response[\"choices\"][0][\"text\"]\n"
   ]
  },
  {
   "cell_type": "code",
   "execution_count": 2,
   "metadata": {},
   "outputs": [
    {
     "data": {
      "text/plain": [
       "'_split'"
      ]
     },
     "execution_count": 2,
     "metadata": {},
     "output_type": "execute_result"
    }
   ],
   "source": [
    "llm(\"test\")"
   ]
  },
  {
   "cell_type": "code",
   "execution_count": 3,
   "metadata": {},
   "outputs": [
    {
     "name": "stderr",
     "output_type": "stream",
     "text": [
      "/home/trunght/anaconda3/envs/factCheck/lib/python3.11/site-packages/torch/cuda/__init__.py:138: UserWarning: CUDA initialization: The NVIDIA driver on your system is too old (found version 11040). Please update your GPU driver by downloading and installing a new version from the URL: http://www.nvidia.com/Download/index.aspx Alternatively, go to: https://pytorch.org to install a PyTorch version that has been compiled with your version of the CUDA driver. (Triggered internally at ../c10/cuda/CUDAFunctions.cpp:108.)\n",
      "  return torch._C._cuda_getDeviceCount() > 0\n"
     ]
    }
   ],
   "source": [
    "import wikienv, wrappers\n",
    "env = wikienv.WikiEnv()\n",
    "env = wrappers.FactCheckWrapper(env)\n",
    "import requests\n",
    "\n",
    "template = 'You are MedFact. Your task is to perform only one next action in the progress to check if the Observation SUPPORTS or REFUTES a Claim, or if there is NOT ENOUGH INFORMATION. Here are some examples:\\nExample 1: Claim: Nikolaj Coster-Waldau worked with the Fox Broadcasting Company.\\nThought 1: MedFact needs to search Nikolaj Coster-Waldau and find if he has worked with the Fox Broadcasting Company.\\nAction 1: Search[Nikolaj Coster-Waldau]\\nObservation 1: Nikolaj William Coster-Waldau (born 27 July 1970) is a Danish actor and producer. He graduated from the Danish National School of Performing Arts in Copenhagen in 1993,[1] and had his breakthrough role in Denmark with the film Nightwatch (1994). He played Jaime Lannister in the HBO fantasy drama series Game of Thrones, for which he received two Primetime Emmy Award nominations for Outstanding Supporting Actor in a Drama Series.. Coster-Waldau has appeared in numerous films in his native Denmark and Scandinavia, including Headhunters (2011) and A Thousand Times Good Night (2013). In the U.S, his debut film role was in the war film Black Hawk Down (2001), playing Medal of Honor recipient Gary Gordon.[2] He then played a detective in the short-lived Fox television series New Amsterdam (2008), and appeared in the 2009 Fox television film Virtuality, originally intended as a pilot.\\nThought 2: Because he appeared in the 2009 Fox television film Virtuality, he should have worked with the Fox Broadcasting Company.\\nAction 2: Finish[SUPPORTS]\\n\\nExample 2: Claim: Stranger Things is set in Bloomington, Indiana.\\nThought 1: MedFact needs to search for Stranger Things, and see if it is set in Bloomington, Indiana.\\nAction 1: Search[Stranger Things]\\nObservation 1: Stranger Things is an American science fiction horror drama television series created by the Duffer Brothers. Set in the 1980s, primarily in the fictional town of Hawkins, Indiana, the series centers on a number of mysteries and supernatural events occurring around the town and their impact on an ensemble of child and adult characters. \\nThought 2: The observation says that it is set in a \"fictional town of Hawkins, Indiana\", so it is not set in Bloomington.\\nAction 2: Finish[REFUTES]\\n\\nExample 3: Claim: Beautiful reached number two on the Billboard Hot 100 in 2003.?\\nThought 1: MedFact needs to search the song Beautiful and find if it reached number two on the Billboard Hot 100 in 2003.\\nAction 1: Search[Beautiful]\\nObservation 1: Could not find [Beautiful]. Similar: [\\'Beautiful\\', \\'Beautiful, Beautiful\\', \\'A Beautiful Mind (film)\\', \\'Beautiful (Christina Aguilera song)\\', \\'Life Is Beautiful\\'].\\nThought 2: From suggestions, MedFact needs to search \"Beautiful (Christina Aguilera song)\" to find the song.\\nAction 2: Search[Beautiful (Christina Aguilera song)]\\nObservation 2: \"Beautiful\" is a song recorded by American singer Christina Aguilera for her fourth studio album, Stripped (2002).\\nThought 3: It does not mention Billboard, so MedFact needs to look up \"Billboard Hot 100\" to find if it reached number two on it in 2003.\\nAction 3: Lookup[Billboard Hot 100]\\nObservation 3: (Result 1 / 3) The song peaked at number two on the Billboard Hot 100 in the United States, where it was certified Gold for 500,000 units shipped.\\nThought 4: It only says the song peaked at number two on the Billboard Hot 100, but not if it was in 2003. I am not sure if this claim is true or not.\\nAction 4: Finish[NOT ENOUGH INFO]\\n\\n'\n",
    "\n",
    "def step(env, action):\n",
    "    attempts = 0\n",
    "    while attempts < 10:\n",
    "        try:\n",
    "            return env.step(action)\n",
    "        except requests.exceptions.Timeout:\n",
    "            attempts += 1"
   ]
  },
  {
   "cell_type": "markdown",
   "metadata": {},
   "source": [
    "# ReAct"
   ]
  },
  {
   "cell_type": "code",
   "execution_count": 4,
   "metadata": {},
   "outputs": [],
   "source": [
    "import json\n",
    "import sys\n",
    "\n",
    "# def factCheck(claim, template, to_print=True):\n",
    "    \n",
    "#     env.reset(claim)\n",
    "    \n",
    "#     if to_print:\n",
    "#         print(claim)\n",
    "#     prompt = \"{}Claim: {}\".format(template, claim)\n",
    "#     n_calls, n_badcalls = 0, 0\n",
    "#     for i in range(1, 8):\n",
    "#         n_calls += 1\n",
    "#         thought_action = llm(prompt + f\"Thought {i}:\")\n",
    "#         try:\n",
    "#             # print(thought_action)\n",
    "#             thought, action = thought_action.strip().split(f\"\\nAction {i}: \")\n",
    "#         except:\n",
    "#             # print('ohh...', thought_action)\n",
    "#             n_badcalls += 1\n",
    "#             n_calls += 1\n",
    "#             thought = thought_action.strip().split('\\n')[0]\n",
    "#             action = llm_gpt4(prompt + f\"Thought {i}: {thought}\\nAction {i}:\", stop=[f\"\\n\"]).strip()\n",
    "#         obs, r, done, info = step(env, action[0].lower() + action[1:])\n",
    "#         obs = obs.replace('\\\\n', '')\n",
    "#         step_str = f\"Thought {i}: {thought}\\nAction {i}: {action}\\nObservation {i}: {obs}\\n\"\n",
    "#         prompt += step_str\n",
    "#         if to_print:\n",
    "#             print(step_str)\n",
    "#         if done:\n",
    "#             break\n",
    "#     if not done:\n",
    "#         obs, r, done, info = step(env, \"finish[]\")\n",
    "#     if to_print:\n",
    "#         print(info, '\\n')\n",
    "#     info.update({'n_calls': n_calls, 'n_badcalls': n_badcalls, 'traj': prompt})\n",
    "#     return r, info"
   ]
  },
  {
   "cell_type": "code",
   "execution_count": 51,
   "metadata": {},
   "outputs": [],
   "source": [
    "def factCheck(claim, template, state = \"\"):\n",
    "\n",
    "    if state == \"\":        \n",
    "        state = \"Claim: {}\".format(claim)\n",
    "        \n",
    "    env.reset(state)\n",
    "\n",
    "    i = 1\n",
    "    prompt = template + state\n",
    "\n",
    "    thought_action = llm(prompt + \"\\n\" + f\"Thought {i}:\")\n",
    "\n",
    "    try:\n",
    "        # print(thought_action)\n",
    "        thought, action = thought_action.strip().split(f\"\\nAction {i}: \")\n",
    "    except:\n",
    "        thought = thought_action.strip().split('\\n')[0]\n",
    "        action = llm_gpt4(prompt + \"\\n\" + f\"Thought {i}: {thought}\\nAction {i}:\", stop=[f\"\\n\"]).strip()\n",
    "    \n",
    "    obs, r, done, info = step(env, action[0].lower() + action[1:])\n",
    "    obs = obs.replace('\\\\n', '')\n",
    "    step_str = f\"\\nThought {i}: {thought}\\nAction {i}: {action}\\nObservation {i}: {obs}\\n\"\n",
    "    state += step_str\n",
    "\n",
    "    return state\n"
   ]
  },
  {
   "cell_type": "code",
   "execution_count": 52,
   "metadata": {},
   "outputs": [
    {
     "data": {
      "text/plain": [
       "True"
      ]
     },
     "execution_count": 52,
     "metadata": {},
     "output_type": "execute_result"
    }
   ],
   "source": [
    "from server.models.factCheck.GPT_factCheck import get_completion\n",
    "\n",
    "def is_drug(input):\n",
    "  prompt = 'Is {} a name of any drug, chemical compound or vaccine? Answer only \"Yes\" or \"No\".'.format(input)\n",
    "  answer = get_completion(prompt)\n",
    "  if \"Yes\" in answer:\n",
    "    return True\n",
    "  return False\n",
    "    \n",
    "is_drug(\"Creatine\")"
   ]
  },
  {
   "cell_type": "code",
   "execution_count": 53,
   "metadata": {},
   "outputs": [
    {
     "name": "stdout",
     "output_type": "stream",
     "text": [
      "200\n"
     ]
    }
   ],
   "source": [
    "claim = \"Creatine can cause abdominal cramp\"\n",
    "state = factCheck(claim, template)"
   ]
  },
  {
   "cell_type": "code",
   "execution_count": 55,
   "metadata": {},
   "outputs": [],
   "source": [
    "state = factCheck(claim, template, state)"
   ]
  },
  {
   "cell_type": "code",
   "execution_count": 56,
   "metadata": {},
   "outputs": [
    {
     "data": {
      "text/plain": [
       "\"Claim: Creatine can cause abdominal cramp\\nThought 1: MedFact needs to search Creatine and find if it can cause abdominal cramp.\\nAction 1: Search[Creatine]\\nObservation 1: Evidence 1: A 2009 systematic review discredited concerns that creatine supplementation could affect hydration status and heat tolerance and lead to muscle cramping and diarrhea.  \\nSource: https://en.wikipedia.org/w/index.php?search=Creatine\\nEvidence 2: Creatine is transported through the blood and taken up by tissues with high energy demands, such as the brain and skeletal muscle, through an active transport system. The concentration of ATP in skeletal muscle is usually 2–5 mM, which would result in a muscle contraction of only a few seconds.  During times of increased energy demands, the phosphagen (or ATP/PCr) system rapidly resynthesizes ATP from ADP with the use of phosphocreatine (PCr) through a reversible reaction catalysed by the enzyme creatine kinase (CK). The phosphate group is attached to an NH center of the creatine. In skeletal muscle, PCr concentrations may reach 20–35 mM or more. Additionally, in most muscles, the ATP regeneration capacity of CK is very high and is therefore not a limiting factor. Although the cellular concentrations of ATP are small, changes are difficult to detect because ATP is continuously and efficiently replenished from the large pools of PCr and CK.  A proposed representation has been illustrated by Krieder et al.  Creatine has the ability to increase muscle stores of PCr, potentially increasing the muscle's ability to resynthesize ATP from ADP to meet increased energy demands.   \\nSource: https://en.wikipedia.org/w/index.php?search=Creatine\\nEvidence 3: Muscular disease  . A meta-analysis found that creatine treatment increased muscle strength in muscular dystrophies, and potentially improved functional performance.  Creatine treatment does not appear to improve muscle strength in people who have metabolic myopathies.  High doses of creatine lead to increased muscle pain and an impairment in activities of daily living when taken by people who have McArdle disease. \\nSource: https://en.wikipedia.org/w/index.php?search=Creatine\\nEvidence 4: What Are Side Effects Associated with Using Creatine? Side effects of creatine include: abdominal pain abnormal heart rhythm (arrhythmias) cardiac arrest heart disease (cardiomyopathy) dehydration diarrhea high blood pressure (hypertension) ischemic stroke  muscle cramping nausea impaired kidney function breakdown of muscle tissue (rhabdomyolysis) seizures weight gain What Other Drugs Interact with Creatine? If your doctor has directed you to use this medication, your doctor or pharmacist may already be aware of any possible drug interactions and may be monitoring you for them\\nSource: https://www.rxlist.com/creatine/generic-drug.htm\\nEvidence 5: Cautions Use caution when using creatine concurrent with other nephrotoxic agents\\nSource: https://www.rxlist.com/creatine/generic-drug.htm\\nEvidence 6: Athletic performance: Creatine seems to enhance muscle performance during repeated bouts of brief, high-intensity exercise\\nSource: https://www.rxlist.com/creatine/generic-drug.htm\\n\\n\\nThought 1: From the evidence, it seems that creatine can cause abdominal cramp.\\nAction 1: Finish[SUPPORTS]\\nObservation 1: Episode finished, reward = 1\\n\\n\""
      ]
     },
     "execution_count": 56,
     "metadata": {},
     "output_type": "execute_result"
    }
   ],
   "source": [
    "state"
   ]
  },
  {
   "cell_type": "code",
   "execution_count": 7,
   "metadata": {},
   "outputs": [
    {
     "name": "stdout",
     "output_type": "stream",
     "text": [
      "Pfizer vaccine can cause headache\n",
      "200\n",
      "Thought 1: MedFact needs to search Pfizer vaccine and find if it can cause headache.\n",
      "Action 1: Search[Pfizer vaccine]\n",
      "Observation 1: Evidence 1: Allergy. Documented hypersensitivity to polyethylene glycol (PEG) (a very rare allergy) is listed as a contraindication to the COVID-19 Pfizer vaccine.  Severe allergic reaction has been observed in approximately eleven cases per million doses of vaccine administered.  According to a report by the US Centers for Disease Control and Prevention, 71% of those allergic reactions happened within 15 minutes of vaccination and mostly (81%) among people with a documented history of allergies or allergic reactions.  The UK's Medicines and Healthcare products Regulatory Agency (MHRA) advised on 9 December 2020 that people who have a history of \"significant\" allergic reaction should not receive the Pfizer–BioNTech COVID‑19 vaccine.    On 12 December, the Canadian regulator followed suit, noting that: \"Both individuals in the U.K. had a history of severe allergic reactions and carried adrenaline auto injectors. They both were treated and have recovered.\" \n",
      "Source: https://en.wikipedia.org/w/index.php?search=Pfizer+vaccine\n",
      "Evidence 2: Most side effects of the Pfizer–BioNTech COVID‑19 vaccine are mild to moderate in severity and are gone within a few days.   They are similar to other adult vaccines and are normal signs that the body is building protection to the virus.  During clinical trials, the common side effects affecting more than 1 in 10 people are (in order of frequency): pain and swelling at the injection site, tiredness, headache, muscle aches, chills, joint pain, and fever.  Fever is more common after the second dose. \n",
      "Source: https://en.wikipedia.org/w/index.php?search=Pfizer+vaccine\n",
      "Evidence 3: Type of vaccine for humans. \"Pfizer vaccine\" and \"BioNTech vaccine\" redirect here. For the manufacturers, see Pfizer and BioNTech\n",
      "Source: https://en.wikipedia.org/w/index.php?search=Pfizer+vaccine\n",
      "\n",
      "\n",
      "Thought 2: The observation mentions that headache is one of the common side effects of the Pfizer-BioNTech COVID-19 vaccine, so it supports the claim.\n",
      "Action 2: Finish[SUPPORTS]\n",
      "Observation 2: Episode finished, reward = 1\n",
      "\n",
      "\n",
      "{'steps': 2, 'answer': 'SUPPORTS'} \n",
      "\n"
     ]
    }
   ],
   "source": [
    "claim = \"Pfizer vaccine can cause headache\"\n",
    "r, info = factCheck(claim, template)"
   ]
  },
  {
   "cell_type": "code",
   "execution_count": 8,
   "metadata": {},
   "outputs": [
    {
     "name": "stdout",
     "output_type": "stream",
     "text": [
      "Some of COVID-19 vaccines can cause Bel's Palsey\n",
      "Thought 1: MedFact needs to search for COVID-19 vaccines and see if they can cause Bel's Palsey.\n",
      "Action 1: Search[COVID-19 vaccines and Bel's Palsey]\n",
      "Observation 1: Could not find COVID-19 vaccines and Bel's Palsey. Similar: ['COVID-19 vaccine misinformation and hesitancy', \"Bell's palsy\", 'Died Suddenly (2022 film) (category COVID-19 vaccine misinformation and hesitancy)', 'Breastfeeding (section COVID-19 (no contraindication))', 'List of University of Edinburgh people (section Government and politics)'].\n",
      "\n",
      "Thought 2: From the suggestions, MedFact needs to search \"Bell's palsy\" to find if it is related to COVID-19 vaccines.\n",
      "Action 2: Search[Bell's palsy]\n",
      "Observation 2: Evidence 1: In December 2020, the U.S. FDA recommended that recipients of the Pfizer and Moderna COVID-19 vaccines should be monitored for symptoms of Bell's palsy after several cases were reported among clinical trial participants, though the data were not sufficient to determine a causal link. \n",
      "Source: https://en.wikipedia.org/w/index.php?search=Bell's+palsy\n",
      "Evidence 2: Pathophysiology  . Bell's palsy is the result of a malfunction of the facial nerve (cranial nerve VII), which controls the muscles of the face. Facial palsy is typified by inability to move the muscles of facial expression. The paralysis is of the infranuclear/lower motor neuron type.\n",
      "Source: https://en.wikipedia.org/w/index.php?search=Bell's+palsy\n",
      "Evidence 3: Some viruses are thought to establish a persistent (or latent) infection without symptoms, e.g., the varicella zoster virus  and the Epstein–Barr virus, both of the herpes family. Reactivation of an existing (dormant) viral infection has been suggested as a cause of acute Bell's palsy.  As the facial nerve swells and becomes inflamed in reaction to the infection, it causes pressure within the Fallopian canal, resulting in the restriction of blood and oxygen to the nerve cells.  Other viruses and bacteria that have been linked to the development of Bell's palsy include HIV, sarcoidosis and Lyme disease.  This new activation could be triggered by trauma, environmental factors, and metabolic or emotional disorders. \n",
      "Source: https://en.wikipedia.org/w/index.php?search=Bell's+palsy\n",
      "\n",
      "\n",
      "Thought 3: The observation says that the U.S. FDA recommended that recipients of the Pfizer and Moderna COVID-19 vaccines should be monitored for symptoms of Bell's palsy, so it supports the claim that some of COVID-19 vaccines can cause Bel's Palsey.\n",
      "Action 3: Finish[SUPPORTS]\n",
      "Observation 3: Episode finished, reward = 1\n",
      "\n",
      "\n",
      "{'steps': 3, 'answer': 'SUPPORTS'} \n",
      "\n"
     ]
    }
   ],
   "source": [
    "claim = \"Some of COVID-19 vaccines can cause Bel's Palsey\"\n",
    "r, info = factCheck(claim, template)"
   ]
  },
  {
   "cell_type": "code",
   "execution_count": 13,
   "metadata": {},
   "outputs": [
    {
     "data": {
      "text/plain": [
       "{'steps': 3,\n",
       " 'answer': 'SUPPORTS',\n",
       " 'question': \"Some of COVID-19 vaccines can cause Bel's Palsey\"}"
      ]
     },
     "execution_count": 13,
     "metadata": {},
     "output_type": "execute_result"
    }
   ],
   "source": [
    "env._get_info()"
   ]
  }
 ],
 "metadata": {
  "kernelspec": {
   "display_name": "factCheck",
   "language": "python",
   "name": "factcheck"
  },
  "language_info": {
   "codemirror_mode": {
    "name": "ipython",
    "version": 3
   },
   "file_extension": ".py",
   "mimetype": "text/x-python",
   "name": "python",
   "nbconvert_exporter": "python",
   "pygments_lexer": "ipython3",
   "version": "3.11.5"
  }
 },
 "nbformat": 4,
 "nbformat_minor": 4
}
