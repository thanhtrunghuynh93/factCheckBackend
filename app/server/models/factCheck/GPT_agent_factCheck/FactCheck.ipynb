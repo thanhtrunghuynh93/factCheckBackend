{
 "cells": [
  {
   "cell_type": "markdown",
   "metadata": {},
   "source": [
    "# Setup"
   ]
  },
  {
   "cell_type": "code",
   "execution_count": 1,
   "metadata": {},
   "outputs": [],
   "source": [
    "import os\n",
    "import openai\n",
    "import yaml\n",
    "\n",
    "os.chdir(\"../../../../\")\n",
    " \n",
    "# openai.api_key = os.environ[\"OPENAI_API_KEY\"]\n",
    "if os.path.isfile('config.yaml'):\n",
    "    with open('config.yaml', 'r') as file:\n",
    "        cfg = yaml.safe_load(file)\n",
    "        openai.api_key = cfg[\"openapi_key\"]\n",
    "\n",
    "def llm_gpt4(prompt, model=\"gpt-4\"):\n",
    "    messages = [{\"role\": \"user\", \"content\": prompt}]\n",
    "    response = openai.ChatCompletion.create(\n",
    "        model=model,\n",
    "        messages=messages,\n",
    "        temperature=0, # this is the degree of randomness of the model's output\n",
    "    )\n",
    "    return response.choices[0].message[\"content\"]\n",
    "\n",
    "def llm(prompt, stop=[\"\\n\"]):\n",
    "    response = openai.Completion.create(\n",
    "      model=\"text-davinci-003\",\n",
    "      prompt=prompt,\n",
    "      temperature=0,\n",
    "      max_tokens=1000,\n",
    "      top_p=1,\n",
    "      frequency_penalty=0.0,\n",
    "      presence_penalty=0.0,\n",
    "      stop=stop\n",
    "    )\n",
    "    return response[\"choices\"][0][\"text\"]\n"
   ]
  },
  {
   "cell_type": "code",
   "execution_count": 2,
   "metadata": {},
   "outputs": [
    {
     "data": {
      "text/plain": [
       "'_split'"
      ]
     },
     "execution_count": 2,
     "metadata": {},
     "output_type": "execute_result"
    }
   ],
   "source": [
    "llm(\"test\")"
   ]
  },
  {
   "cell_type": "code",
   "execution_count": 3,
   "metadata": {},
   "outputs": [
    {
     "name": "stderr",
     "output_type": "stream",
     "text": [
      "/home/trunght/anaconda3/envs/factCheck/lib/python3.11/site-packages/torch/cuda/__init__.py:138: UserWarning: CUDA initialization: The NVIDIA driver on your system is too old (found version 11040). Please update your GPU driver by downloading and installing a new version from the URL: http://www.nvidia.com/Download/index.aspx Alternatively, go to: https://pytorch.org to install a PyTorch version that has been compiled with your version of the CUDA driver. (Triggered internally at ../c10/cuda/CUDAFunctions.cpp:108.)\n",
      "  return torch._C._cuda_getDeviceCount() > 0\n"
     ]
    }
   ],
   "source": [
    "import wikienv, wrappers\n",
    "env = wikienv.WikiEnv()\n",
    "env = wrappers.FactCheckWrapper(env)\n",
    "\n",
    "template = 'Your task is to perform only one next action in the progress to check if the Observation SUPPORTS or REFUTES a Claim, or if there is NOT ENOUGH INFORMATION. Here are some examples:\\nExample 1: Claim: Nikolaj Coster-Waldau worked with the Fox Broadcasting Company.\\nThought 1: I need to search Nikolaj Coster-Waldau and find if he has worked with the Fox Broadcasting Company.\\nAction 1: Search[Nikolaj Coster-Waldau]\\nObservation 1: Nikolaj William Coster-Waldau (born 27 July 1970) is a Danish actor and producer. He graduated from the Danish National School of Performing Arts in Copenhagen in 1993,[1] and had his breakthrough role in Denmark with the film Nightwatch (1994). He played Jaime Lannister in the HBO fantasy drama series Game of Thrones, for which he received two Primetime Emmy Award nominations for Outstanding Supporting Actor in a Drama Series.. Coster-Waldau has appeared in numerous films in his native Denmark and Scandinavia, including Headhunters (2011) and A Thousand Times Good Night (2013). In the U.S, his debut film role was in the war film Black Hawk Down (2001), playing Medal of Honor recipient Gary Gordon.[2] He then played a detective in the short-lived Fox television series New Amsterdam (2008), and appeared in the 2009 Fox television film Virtuality, originally intended as a pilot.\\nThought 2: Because he appeared in the 2009 Fox television film Virtuality, he should have worked with the Fox Broadcasting Company.\\nAction 2: Finish[SUPPORTS]\\n\\nExample 2: Claim: Stranger Things is set in Bloomington, Indiana.\\nThought 1: I should search for Stranger Things, and see if it is set in Bloomington, Indiana.\\nAction 1: Search[Stranger Things]\\nObservation 1: Stranger Things is an American science fiction horror drama television series created by the Duffer Brothers. Set in the 1980s, primarily in the fictional town of Hawkins, Indiana, the series centers on a number of mysteries and supernatural events occurring around the town and their impact on an ensemble of child and adult characters. \\nThought 2: The observation says that it is set in a \"fictional town of Hawkins, Indiana\", so it is not set in Bloomington.\\nAction 2: Finish[REFUTES]\\n\\nExample 3: Claim: Beautiful reached number two on the Billboard Hot 100 in 2003.?\\nThought 1: I need to search the song Beautiful and find if it reached number two on the Billboard Hot 100 in 2003.\\nAction 1: Search[Beautiful]\\nObservation 1: Could not find [Beautiful]. Similar: [\\'Beautiful\\', \\'Beautiful, Beautiful\\', \\'A Beautiful Mind (film)\\', \\'Beautiful (Christina Aguilera song)\\', \\'Life Is Beautiful\\'].\\nThought 2: From suggestions, I should search \"Beautiful (Christina Aguilera song)\" to find the song.\\nAction 2: Search[Beautiful (Christina Aguilera song)]\\nObservation 2: \"Beautiful\" is a song recorded by American singer Christina Aguilera for her fourth studio album, Stripped (2002).\\nThought 3: It does not mention Billboard, so I need to look up \"Billboard Hot 100\" to find if it reached number two on it in 2003.\\nAction 3: Lookup[Billboard Hot 100]\\nObservation 3: (Result 1 / 3) The song peaked at number two on the Billboard Hot 100 in the United States, where it was certified Gold for 500,000 units shipped.\\nThought 4: It only says the song peaked at number two on the Billboard Hot 100, but not if it was in 2003. I am not sure if this claim is true or not.\\nAction 4: Finish[NOT ENOUGH INFO]\\n\\n'\n",
    "\n",
    "def step(env, action):\n",
    "    attempts = 0\n",
    "    while attempts < 10:\n",
    "        try:\n",
    "            return env.step(action)\n",
    "        except requests.exceptions.Timeout:\n",
    "            attempts += 1"
   ]
  },
  {
   "cell_type": "markdown",
   "metadata": {},
   "source": [
    "# ReAct"
   ]
  },
  {
   "cell_type": "code",
   "execution_count": 4,
   "metadata": {},
   "outputs": [],
   "source": [
    "import json\n",
    "import sys\n",
    "\n",
    "def factCheck(claim, template, to_print=True):\n",
    "    \n",
    "    env.reset(claim)\n",
    "    \n",
    "    if to_print:\n",
    "        print(claim)\n",
    "    prompt = \"{}Claim: {}\".format(template, claim)\n",
    "    n_calls, n_badcalls = 0, 0\n",
    "    for i in range(1, 8):\n",
    "        n_calls += 1\n",
    "        thought_action = llm(prompt + f\"Thought {i}:\")\n",
    "        try:\n",
    "            # print(thought_action)\n",
    "            thought, action = thought_action.strip().split(f\"\\nAction {i}: \")\n",
    "        except:\n",
    "            # print('ohh...', thought_action)\n",
    "            n_badcalls += 1\n",
    "            n_calls += 1\n",
    "            thought = thought_action.strip().split('\\n')[0]\n",
    "            action = llm(prompt + f\"Thought {i}: {thought}\\nAction {i}:\", stop=[f\"\\n\"]).strip()\n",
    "        obs, r, done, info = step(env, action[0].lower() + action[1:])\n",
    "        obs = obs.replace('\\\\n', '')\n",
    "        step_str = f\"Thought {i}: {thought}\\nAction {i}: {action}\\nObservation {i}: {obs}\\n\"\n",
    "        prompt += step_str\n",
    "        if to_print:\n",
    "            print(step_str)\n",
    "        if done:\n",
    "            break\n",
    "    if not done:\n",
    "        obs, r, done, info = step(env, \"finish[]\")\n",
    "    if to_print:\n",
    "        print(info, '\\n')\n",
    "    info.update({'n_calls': n_calls, 'n_badcalls': n_badcalls, 'traj': prompt})\n",
    "    return r, info"
   ]
  },
  {
   "cell_type": "code",
   "execution_count": 5,
   "metadata": {},
   "outputs": [
    {
     "data": {
      "text/plain": [
       "True"
      ]
     },
     "execution_count": 5,
     "metadata": {},
     "output_type": "execute_result"
    }
   ],
   "source": [
    "from server.models.factCheck.GPT_factCheck import get_completion\n",
    "\n",
    "def is_drug(input):\n",
    "  prompt = 'Is {} a name of any drug, chemical compound or vaccine? Answer only \"Yes\" or \"No\".'.format(input)\n",
    "  answer = get_completion(prompt)\n",
    "  if \"Yes\" in answer:\n",
    "    return True\n",
    "  return False\n",
    "    \n",
    "is_drug(\"Creatine\")"
   ]
  },
  {
   "cell_type": "code",
   "execution_count": 6,
   "metadata": {},
   "outputs": [
    {
     "name": "stdout",
     "output_type": "stream",
     "text": [
      "Creatine can cause abdominal cramp\n",
      "Thought 1: I need to search creatine and find if it can cause abdominal cramp.\n",
      "Action 1: Search[Creatine]\n",
      "Observation 1: Evidence 1: Upset stomachDiarrheaDizziness. One well-documented effect of creatine supplementation is weight gain within the first week of the supplement schedule, likely attributable to greater water retention due to the increased muscle creatine concentrations by means of osmosis.[73]\n",
      "Evidence 2: Potential muscle cramps / strains / pulls\n",
      "Evidence 3: A 2009 systematic review discredited concerns that creatine supplementation could affect hydration status and heat tolerance and lead to muscle cramping and diarrhea.[74][75]\n",
      "\n",
      "\n",
      "Thought 2: The observation mentions potential muscle cramps, so it supports the claim that creatine can cause abdominal cramp.\n",
      "Action 2: Finish[SUPPORTS]\n",
      "Observation 2: Episode finished, reward = 1\n",
      "\n",
      "\n",
      "{'steps': 2, 'answer': 'SUPPORTS'} \n",
      "\n"
     ]
    }
   ],
   "source": [
    "claim = \"Creatine can cause abdominal cramp\"\n",
    "r, info = factCheck(claim, template)"
   ]
  },
  {
   "cell_type": "code",
   "execution_count": 7,
   "metadata": {},
   "outputs": [
    {
     "name": "stdout",
     "output_type": "stream",
     "text": [
      "Pfizer vaccine can cause headache\n",
      "Thought 1: I need to search Pfizer vaccine and find if it can cause headache.\n",
      "Action 1: Search[Pfizer vaccine]\n",
      "Observation 1: Evidence 1: Allergy. Documented hypersensitivity to polyethylene glycol (PEG) (a very rare allergy) is listed as a contraindication to the COVID-19 Pfizer vaccine.[111] Severe allergic reaction has been observed in approximately eleven cases per million doses of vaccine administered.[112] According to a report by the US Centers for Disease Control and Prevention, 71% of those allergic reactions happened within 15 minutes of vaccination and mostly (81%) among people with a documented history of allergies or allergic reactions.[112] The UK's Medicines and Healthcare products Regulatory Agency (MHRA) advised on 9 December 2020 that people who have a history of \"significant\" allergic reaction should not receive the Pfizer–BioNTech COVID‑19 vaccine.[114][115][116] On 12 December, the Canadian regulator followed suit, noting that: \"Both individuals in the U.K. had a history of severe allergic reactions and carried adrenaline auto injectors. They both were treated and have recovered.\"[117]\n",
      "Evidence 2: Most side effects of the Pfizer–BioNTech COVID‑19 vaccine are mild to moderate in severity and are gone within a few days.[52][2] They are similar to other adult vaccines and are normal signs that the body is building protection to the virus.[52] During clinical trials, the common side effects affecting more than 1 in 10 people are (in order of frequency): pain and swelling at the injection site, tiredness, headache, muscle aches, chills, joint pain, and fever.[110] Fever is more common after the second dose.[110]\n",
      "Evidence 3: Type of vaccine for humans. \"Pfizer vaccine\" and \"BioNTech vaccine\" redirect here. For the manufacturers, see Pfizer and BioNTech\n",
      "\n",
      "\n",
      "Thought 2: The observation mentions that headache is one of the common side effects of the Pfizer-BioNTech COVID-19 vaccine.\n",
      "Action 2: Finish[SUPPORTS]\n",
      "Observation 2: Episode finished, reward = 1\n",
      "\n",
      "\n",
      "{'steps': 2, 'answer': 'SUPPORTS'} \n",
      "\n"
     ]
    }
   ],
   "source": [
    "claim = \"Pfizer vaccine can cause headache\"\n",
    "r, info = factCheck(claim, template)"
   ]
  },
  {
   "cell_type": "code",
   "execution_count": 8,
   "metadata": {},
   "outputs": [
    {
     "name": "stdout",
     "output_type": "stream",
     "text": [
      "COVID-19 vaccine can cause Bel's Palsey\n",
      "Thought 1: I need to search for information about the COVID-19 vaccine and see if it can cause Bel's Palsey.\n",
      "Action 1: Search[COVID-19 vaccine]\n",
      "Observation 1: Evidence 1: Common side effects of COVID‑19 vaccines include soreness, redness, rash, inflammation at the injection site, fatigue, headache, myalgia (muscle pain), and arthralgia (joint pain), which resolve without medical treatment within a few days.[11][12] COVID‑19 vaccination is safe for people who are pregnant or are breastfeeding.[13]\n",
      "Evidence 2: thrombotic thrombocytopenia and other autoimmune diseases, which have been reported as adverse events after the COVID‑19 vaccine.[272]\n",
      "Evidence 3: COVID‑19 vaccination for children aged 12–14 in Bhopal, India\n",
      "\n",
      "\n",
      "Thought 2: The observation does not mention Bel's Palsey, so I cannot determine if the claim is true or not.\n",
      "Action 2: Finish[NOT ENOUGH INFO]\n",
      "Observation 2: Episode finished, reward = 1\n",
      "\n",
      "\n",
      "{'steps': 2, 'answer': 'NOT ENOUGH INFO'} \n",
      "\n"
     ]
    }
   ],
   "source": [
    "claim = \"COVID-19 vaccine can cause Bel's Palsey\"\n",
    "r, info = factCheck(claim, template)"
   ]
  }
 ],
 "metadata": {
  "kernelspec": {
   "display_name": "factCheck",
   "language": "python",
   "name": "factcheck"
  },
  "language_info": {
   "codemirror_mode": {
    "name": "ipython",
    "version": 3
   },
   "file_extension": ".py",
   "mimetype": "text/x-python",
   "name": "python",
   "nbconvert_exporter": "python",
   "pygments_lexer": "ipython3",
   "version": "3.11.5"
  }
 },
 "nbformat": 4,
 "nbformat_minor": 4
}
